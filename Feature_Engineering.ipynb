{
 "cells": [
  {
   "cell_type": "code",
   "execution_count": 1,
   "metadata": {},
   "outputs": [],
   "source": [
    "import pandas as pd\n",
    "from sklearn.model_selection import train_test_split"
   ]
  },
  {
   "cell_type": "code",
   "execution_count": 5,
   "metadata": {},
   "outputs": [],
   "source": [
    "#Read in files and train test split\n",
    "x = pd.read_csv('x.csv')\n",
    "y = pd.read_csv('y.csv')\n",
    "xTrain,xTest,yTrain,yTest = train_test_split(x, y, train_size=0.7, shuffle=True)\n",
    "xTrain.to_csv('xTrain.csv', index=False)\n",
    "xTest.to_csv('xTest.csv', index=False)\n",
    "yTrain.to_csv('yTrain.csv', index=False)\n",
    "yTest.to_csv('yTest.csv', index=False)"
   ]
  },
  {
   "cell_type": "code",
   "execution_count": 6,
   "metadata": {},
   "outputs": [],
   "source": [
    "#Tranform data using bag of words\n",
    "from sklearn.feature_extraction.text import CountVectorizer\n",
    "\n",
    "xTrain = pd.read_csv('xTrain.csv')\n",
    "xTest = pd.read_csv('xTest.csv')\n",
    "\n",
    "vectorizer = CountVectorizer(max_features=500)\n",
    "vectorizer.fit(xTrain['cleaned_content'])\n",
    "bow_df_train = vectorizer.transform(xTrain['cleaned_content'])\n",
    "bow_df_test = vectorizer.transform(xTest['cleaned_content'])\n",
    "feature_names = vectorizer.get_feature_names_out()\n",
    "bow_df_train = pd.DataFrame(bow_df_train.toarray(), columns=feature_names)\n",
    "bow_df_test = pd.DataFrame(bow_df_test.toarray(), columns=feature_names)\n",
    "bow_df_train.to_csv('bow_df_train.csv', index=False)\n",
    "bow_df_test.to_csv('bow_df_test.csv', index=False)"
   ]
  },
  {
   "cell_type": "code",
   "execution_count": null,
   "metadata": {},
   "outputs": [],
   "source": [
    "#Tranform data using binary\n",
    "from sklearn.feature_extraction.text import CountVectorizer\n",
    "\n",
    "xTrain = pd.read_csv('xTrain.csv')\n",
    "xTest = pd.read_csv('xTest.csv')\n",
    "\n",
    "vectorizer = CountVectorizer(max_features=500, binary=True)\n",
    "vectorizer.fit(xTrain['cleaned_content'])\n",
    "binary_df_train = vectorizer.transform(xTrain['cleaned_content'])\n",
    "binary_df_test = vectorizer.transform(xTest['cleaned_content'])\n",
    "feature_names = vectorizer.get_feature_names_out()\n",
    "binary_df_train = pd.DataFrame(binary_df_train.toarray(), columns=feature_names)\n",
    "binary_df_test = pd.DataFrame(binary_df_test.toarray(), columns=feature_names)\n",
    "binary_df_train.to_csv('binary_df_train.csv', index=False)\n",
    "binary_df_test.to_csv('binary_df_test.csv', index=False)"
   ]
  },
  {
   "cell_type": "code",
   "execution_count": 7,
   "metadata": {},
   "outputs": [],
   "source": [
    "#Transform data using tf-idf\n",
    "from sklearn.feature_extraction.text import TfidfVectorizer\n",
    "\n",
    "xTrain = pd.read_csv('xTrain.csv')\n",
    "xTest = pd.read_csv('xTest.csv')\n",
    "\n",
    "vectorizer = TfidfVectorizer(max_features=500)\n",
    "vectorizer.fit(xTrain['cleaned_content'])\n",
    "tfidf_df_train = vectorizer.transform(xTrain['cleaned_content'])\n",
    "tfidf_df_test = vectorizer.transform(xTest['cleaned_content'])\n",
    "feature_names = vectorizer.get_feature_names_out()\n",
    "tfidf_df_train = pd.DataFrame(tfidf_df_train.toarray(), columns=feature_names)\n",
    "tfidf_df_test = pd.DataFrame(tfidf_df_test.toarray(), columns=feature_names)\n",
    "tfidf_df_train.to_csv('tfidf_df_train.csv', index=False)\n",
    "tfidf_df_test.to_csv('tfidf_df_test.csv', index=False)"
   ]
  },
  {
   "cell_type": "code",
   "execution_count": 5,
   "metadata": {},
   "outputs": [],
   "source": [
    "#Transform data using hashing vectorizer\n",
    "from sklearn.feature_extraction.text import HashingVectorizer\n",
    "\n",
    "xTrain = pd.read_csv('xTrain.csv')\n",
    "xTest = pd.read_csv('xTest.csv')\n",
    "\n",
    "vectorizer = HashingVectorizer(n_features=500)\n",
    "vectorizer.fit(xTrain['cleaned_content'])\n",
    "hash_df_train = vectorizer.transform(xTrain['cleaned_content'])\n",
    "hash_df_test = vectorizer.transform(xTest['cleaned_content'])\n",
    "hash_df_train = pd.DataFrame(hash_df_train.toarray())\n",
    "hash_df_test = pd.DataFrame(hash_df_test.toarray())\n",
    "hash_df_train.to_csv('hash_df_train.csv', index=False)\n",
    "hash_df_test.to_csv('hash_df_test.csv', index=False)"
   ]
  },
  {
   "cell_type": "code",
   "execution_count": 2,
   "metadata": {},
   "outputs": [
    {
     "ename": "ParserError",
     "evalue": "Error tokenizing data. C error: Calling read(nbytes) on source failed. Try engine='python'.",
     "output_type": "error",
     "traceback": [
      "\u001b[0;31m---------------------------------------------------------------------------\u001b[0m",
      "\u001b[0;31mParserError\u001b[0m                               Traceback (most recent call last)",
      "\u001b[1;32m/Users/henry/Desktop/CS334/Final_Project/Feature_Engineering.ipynb Cell 6\u001b[0m line \u001b[0;36m4\n\u001b[1;32m      <a href='vscode-notebook-cell:/Users/henry/Desktop/CS334/Final_Project/Feature_Engineering.ipynb#W5sZmlsZQ%3D%3D?line=0'>1</a>\u001b[0m \u001b[39m#Transform data using non-negative matrix factorization (NMF)\u001b[39;00m\n\u001b[1;32m      <a href='vscode-notebook-cell:/Users/henry/Desktop/CS334/Final_Project/Feature_Engineering.ipynb#W5sZmlsZQ%3D%3D?line=1'>2</a>\u001b[0m \u001b[39mfrom\u001b[39;00m \u001b[39msklearn\u001b[39;00m\u001b[39m.\u001b[39;00m\u001b[39mdecomposition\u001b[39;00m \u001b[39mimport\u001b[39;00m NMF\n\u001b[0;32m----> <a href='vscode-notebook-cell:/Users/henry/Desktop/CS334/Final_Project/Feature_Engineering.ipynb#W5sZmlsZQ%3D%3D?line=3'>4</a>\u001b[0m tfidf_df_train \u001b[39m=\u001b[39m pd\u001b[39m.\u001b[39;49mread_csv(\u001b[39m'\u001b[39;49m\u001b[39mtfidf_df_train.csv\u001b[39;49m\u001b[39m'\u001b[39;49m)\n\u001b[1;32m      <a href='vscode-notebook-cell:/Users/henry/Desktop/CS334/Final_Project/Feature_Engineering.ipynb#W5sZmlsZQ%3D%3D?line=4'>5</a>\u001b[0m tfidf_df_test \u001b[39m=\u001b[39m pd\u001b[39m.\u001b[39mread_csv(\u001b[39m'\u001b[39m\u001b[39mtfidf_df_test.csv\u001b[39m\u001b[39m'\u001b[39m)\n\u001b[1;32m      <a href='vscode-notebook-cell:/Users/henry/Desktop/CS334/Final_Project/Feature_Engineering.ipynb#W5sZmlsZQ%3D%3D?line=6'>7</a>\u001b[0m nmf \u001b[39m=\u001b[39m NMF(n_components\u001b[39m=\u001b[39m\u001b[39m10\u001b[39m, random_state\u001b[39m=\u001b[39m\u001b[39m100\u001b[39m)\n",
      "File \u001b[0;32m~/anaconda3/envs/CS334/lib/python3.11/site-packages/pandas/io/parsers/readers.py:948\u001b[0m, in \u001b[0;36mread_csv\u001b[0;34m(filepath_or_buffer, sep, delimiter, header, names, index_col, usecols, dtype, engine, converters, true_values, false_values, skipinitialspace, skiprows, skipfooter, nrows, na_values, keep_default_na, na_filter, verbose, skip_blank_lines, parse_dates, infer_datetime_format, keep_date_col, date_parser, date_format, dayfirst, cache_dates, iterator, chunksize, compression, thousands, decimal, lineterminator, quotechar, quoting, doublequote, escapechar, comment, encoding, encoding_errors, dialect, on_bad_lines, delim_whitespace, low_memory, memory_map, float_precision, storage_options, dtype_backend)\u001b[0m\n\u001b[1;32m    935\u001b[0m kwds_defaults \u001b[39m=\u001b[39m _refine_defaults_read(\n\u001b[1;32m    936\u001b[0m     dialect,\n\u001b[1;32m    937\u001b[0m     delimiter,\n\u001b[0;32m   (...)\u001b[0m\n\u001b[1;32m    944\u001b[0m     dtype_backend\u001b[39m=\u001b[39mdtype_backend,\n\u001b[1;32m    945\u001b[0m )\n\u001b[1;32m    946\u001b[0m kwds\u001b[39m.\u001b[39mupdate(kwds_defaults)\n\u001b[0;32m--> 948\u001b[0m \u001b[39mreturn\u001b[39;00m _read(filepath_or_buffer, kwds)\n",
      "File \u001b[0;32m~/anaconda3/envs/CS334/lib/python3.11/site-packages/pandas/io/parsers/readers.py:617\u001b[0m, in \u001b[0;36m_read\u001b[0;34m(filepath_or_buffer, kwds)\u001b[0m\n\u001b[1;32m    614\u001b[0m     \u001b[39mreturn\u001b[39;00m parser\n\u001b[1;32m    616\u001b[0m \u001b[39mwith\u001b[39;00m parser:\n\u001b[0;32m--> 617\u001b[0m     \u001b[39mreturn\u001b[39;00m parser\u001b[39m.\u001b[39;49mread(nrows)\n",
      "File \u001b[0;32m~/anaconda3/envs/CS334/lib/python3.11/site-packages/pandas/io/parsers/readers.py:1748\u001b[0m, in \u001b[0;36mTextFileReader.read\u001b[0;34m(self, nrows)\u001b[0m\n\u001b[1;32m   1741\u001b[0m nrows \u001b[39m=\u001b[39m validate_integer(\u001b[39m\"\u001b[39m\u001b[39mnrows\u001b[39m\u001b[39m\"\u001b[39m, nrows)\n\u001b[1;32m   1742\u001b[0m \u001b[39mtry\u001b[39;00m:\n\u001b[1;32m   1743\u001b[0m     \u001b[39m# error: \"ParserBase\" has no attribute \"read\"\u001b[39;00m\n\u001b[1;32m   1744\u001b[0m     (\n\u001b[1;32m   1745\u001b[0m         index,\n\u001b[1;32m   1746\u001b[0m         columns,\n\u001b[1;32m   1747\u001b[0m         col_dict,\n\u001b[0;32m-> 1748\u001b[0m     ) \u001b[39m=\u001b[39m \u001b[39mself\u001b[39;49m\u001b[39m.\u001b[39;49m_engine\u001b[39m.\u001b[39;49mread(  \u001b[39m# type: ignore[attr-defined]\u001b[39;49;00m\n\u001b[1;32m   1749\u001b[0m         nrows\n\u001b[1;32m   1750\u001b[0m     )\n\u001b[1;32m   1751\u001b[0m \u001b[39mexcept\u001b[39;00m \u001b[39mException\u001b[39;00m:\n\u001b[1;32m   1752\u001b[0m     \u001b[39mself\u001b[39m\u001b[39m.\u001b[39mclose()\n",
      "File \u001b[0;32m~/anaconda3/envs/CS334/lib/python3.11/site-packages/pandas/io/parsers/c_parser_wrapper.py:234\u001b[0m, in \u001b[0;36mCParserWrapper.read\u001b[0;34m(self, nrows)\u001b[0m\n\u001b[1;32m    232\u001b[0m \u001b[39mtry\u001b[39;00m:\n\u001b[1;32m    233\u001b[0m     \u001b[39mif\u001b[39;00m \u001b[39mself\u001b[39m\u001b[39m.\u001b[39mlow_memory:\n\u001b[0;32m--> 234\u001b[0m         chunks \u001b[39m=\u001b[39m \u001b[39mself\u001b[39;49m\u001b[39m.\u001b[39;49m_reader\u001b[39m.\u001b[39;49mread_low_memory(nrows)\n\u001b[1;32m    235\u001b[0m         \u001b[39m# destructive to chunks\u001b[39;00m\n\u001b[1;32m    236\u001b[0m         data \u001b[39m=\u001b[39m _concatenate_chunks(chunks)\n",
      "File \u001b[0;32mparsers.pyx:843\u001b[0m, in \u001b[0;36mpandas._libs.parsers.TextReader.read_low_memory\u001b[0;34m()\u001b[0m\n",
      "File \u001b[0;32mparsers.pyx:904\u001b[0m, in \u001b[0;36mpandas._libs.parsers.TextReader._read_rows\u001b[0;34m()\u001b[0m\n",
      "File \u001b[0;32mparsers.pyx:879\u001b[0m, in \u001b[0;36mpandas._libs.parsers.TextReader._tokenize_rows\u001b[0;34m()\u001b[0m\n",
      "File \u001b[0;32mparsers.pyx:890\u001b[0m, in \u001b[0;36mpandas._libs.parsers.TextReader._check_tokenize_status\u001b[0;34m()\u001b[0m\n",
      "File \u001b[0;32mparsers.pyx:2058\u001b[0m, in \u001b[0;36mpandas._libs.parsers.raise_parser_error\u001b[0;34m()\u001b[0m\n",
      "\u001b[0;31mParserError\u001b[0m: Error tokenizing data. C error: Calling read(nbytes) on source failed. Try engine='python'."
     ]
    }
   ],
   "source": [
    "#Transform data using non-negative matrix factorization (NMF)\n",
    "from sklearn.decomposition import NMF\n",
    "\n",
    "tfidf_df_train = pd.read_csv('tfidf_df_train.csv')\n",
    "tfidf_df_test = pd.read_csv('tfidf_df_test.csv')\n",
    "\n",
    "nmf = NMF(n_components=10, random_state=100)\n",
    "nmf.fit(tfidf_df_train)\n",
    "nmf_df_train = nmf.transform(tfidf_df_train)\n",
    "nmf_df_test = nmf.transform(tfidf_df_test)\n",
    "nmf_df_train = pd.DataFrame(nmf_df_train)\n",
    "nmf_df_test = pd.DataFrame(nmf_df_test)\n",
    "nmf_df_train.to_csv('nmf_df_train.csv', index=False)\n",
    "nmf_df_test.to_csv('nmf_df_test.csv', index=False)\n",
    "\n"
   ]
  }
 ],
 "metadata": {
  "kernelspec": {
   "display_name": "CS334",
   "language": "python",
   "name": "python3"
  },
  "language_info": {
   "codemirror_mode": {
    "name": "ipython",
    "version": 3
   },
   "file_extension": ".py",
   "mimetype": "text/x-python",
   "name": "python",
   "nbconvert_exporter": "python",
   "pygments_lexer": "ipython3",
   "version": "3.11.4"
  }
 },
 "nbformat": 4,
 "nbformat_minor": 2
}
