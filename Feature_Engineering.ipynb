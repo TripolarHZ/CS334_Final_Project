{
 "cells": [
  {
   "cell_type": "code",
   "execution_count": 1,
   "metadata": {},
   "outputs": [],
   "source": [
    "import pandas as pd\n",
    "from sklearn.model_selection import train_test_split"
   ]
  },
  {
   "cell_type": "code",
   "execution_count": 2,
   "metadata": {},
   "outputs": [],
   "source": [
    "#Read in files and train test split\n",
    "x = pd.read_csv('x.csv')\n",
    "y = pd.read_csv('y.csv')\n",
    "xTrain,xTest,yTrain,yTest = train_test_split(x, y, train_size=0.7, shuffle=True)"
   ]
  },
  {
   "cell_type": "code",
   "execution_count": 4,
   "metadata": {},
   "outputs": [],
   "source": [
    "#Tranform data using bag of words\n",
    "from sklearn.feature_extraction.text import CountVectorizer\n",
    "vectorizer = CountVectorizer(max_features=500)\n",
    "vectorizer.fit(xTrain['cleaned_content'])\n",
    "bow_df_train = vectorizer.transform(xTrain['cleaned_content'])\n",
    "bow_df_test = vectorizer.transform(xTest['cleaned_content'])\n",
    "feature_names = vectorizer.get_feature_names_out()\n",
    "bow_df_train = pd.DataFrame(bow_df_train.toarray(), columns=feature_names)\n",
    "bow_df_test = pd.DataFrame(bow_df_test.toarray(), columns=feature_names)\n",
    "bow_df_train.to_csv('bow_df_train.csv', index=False)\n",
    "bow_df_test.to_csv('bow_df_test.csv', index=False)"
   ]
  }
 ],
 "metadata": {
  "kernelspec": {
   "display_name": "CS334",
   "language": "python",
   "name": "python3"
  },
  "language_info": {
   "codemirror_mode": {
    "name": "ipython",
    "version": 3
   },
   "file_extension": ".py",
   "mimetype": "text/x-python",
   "name": "python",
   "nbconvert_exporter": "python",
   "pygments_lexer": "ipython3",
   "version": "3.11.4"
  }
 },
 "nbformat": 4,
 "nbformat_minor": 2
}
