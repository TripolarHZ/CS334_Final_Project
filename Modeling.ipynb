{
 "cells": [
  {
   "cell_type": "code",
   "execution_count": 1,
   "metadata": {},
   "outputs": [],
   "source": [
    "import pandas as pd\n",
    "from sklearn.naive_bayes import MultinomialNB, BernoulliNB\n",
    "from sklearn.tree import DecisionTreeClassifier\n",
    "from sklearn.ensemble import RandomForestClassifier\n",
    "from sklearn.linear_model import LogisticRegression\n",
    "from sklearn.linear_model import Perceptron\n",
    "from sklearn.neighbors import KNeighborsClassifier\n",
    "from sklearn.metrics import classification_report\n",
    "import warnings\n",
    "warnings.filterwarnings('ignore')"
   ]
  },
  {
   "cell_type": "code",
   "execution_count": 2,
   "metadata": {},
   "outputs": [],
   "source": [
    "# Read in y datasets\n",
    "yTrain = pd.read_csv('yTrain.csv')\n",
    "yTest = pd.read_csv('yTest.csv')\n",
    "\n",
    "# Target names for models\n",
    "target_names = ['Neutral', 'Depression']"
   ]
  },
  {
   "cell_type": "code",
   "execution_count": 3,
   "metadata": {},
   "outputs": [],
   "source": [
    "# Multinomial Naive Bayes\n",
    "def MNB(xTrain, xTest, yTrain, yTest, dataset, target_names):\n",
    "    mnb = MultinomialNB()\n",
    "    mnb.fit(xTrain, yTrain)\n",
    "    y_pred_mnb = mnb.predict(xTest)\n",
    "    print(f\"MultinomialNB on {dataset} dataset:\")\n",
    "    print(classification_report(yTest, y_pred_mnb, target_names=target_names))\n",
    "\n",
    "# Bernoulli Naive Bayes\n",
    "def BNB(xTrain, xTest, yTrain, yTest, dataset, target_names):\n",
    "    bnb = BernoulliNB()\n",
    "    bnb.fit(xTrain, yTrain)\n",
    "    y_pred_bnb = bnb.predict(xTest)\n",
    "    print(f\"BernoulliNB on {dataset} dataset:\")\n",
    "    print(classification_report(yTest, y_pred_bnb, target_names=target_names))\n",
    "\n",
    "# KNN\n",
    "def KNN(xTrain, xTest, yTrain, yTest, dataset, target_names):\n",
    "    knn = KNeighborsClassifier(metric='euclidean')\n",
    "    knn.fit(xTrain.to_numpy(), yTrain)\n",
    "    y_pred_knn = knn.predict(xTest.to_numpy())\n",
    "    print(f\"KNN on {dataset} dataset:\")\n",
    "    print(classification_report(yTest, y_pred_knn, target_names=target_names))\n",
    "\n",
    "# Perceptron\n",
    "def PERC(xTrain, xTest, yTrain, yTest, dataset, target_names):\n",
    "    perc = Perceptron(random_state=42)\n",
    "    perc.fit(xTrain, yTrain)\n",
    "    y_pred_perc = perc.predict(xTest)\n",
    "    print(f\"Perceptron on {dataset} dataset:\")\n",
    "    print(classification_report(yTest, y_pred_perc, target_names=target_names))\n",
    "\n",
    "# Logistic Regression\n",
    "def LR(xTrain, xTest, yTrain, yTest, dataset, target_names):\n",
    "    lr = LogisticRegression(max_iter=1000, random_state=42)\n",
    "    lr.fit(xTrain, yTrain)\n",
    "    y_pred_lr = lr.predict(xTest)\n",
    "    print(f\"Logistic Regression on {dataset} dataset:\")\n",
    "    print(classification_report(yTest, y_pred_lr, target_names=target_names))\n",
    "\n",
    "# Decision Tree\n",
    "def DT(xTrain, xTest, yTrain, yTest, dataset, target_names):\n",
    "    dt = DecisionTreeClassifier(random_state=42, max_depth=10, min_samples_leaf=50)\n",
    "    dt.fit(xTrain, yTrain)\n",
    "    y_pred_dt = dt.predict(xTest)\n",
    "    print(f\"Decision Tree on {dataset} dataset:\")\n",
    "    print(classification_report(yTest, y_pred_dt, target_names=target_names))\n",
    "\n",
    "# Random Forest\n",
    "def RF(xTrain, xTest, yTrain, yTest, dataset, target_names):\n",
    "    rf = RandomForestClassifier(random_state=42)\n",
    "    rf.fit(xTrain, yTrain)\n",
    "    y_pred_rf = rf.predict(xTest)\n",
    "    print(f\"Random Forest on {dataset} dataset:\")\n",
    "    print(classification_report(yTest, y_pred_rf, target_names=target_names))\n",
    "\n",
    "# Convolutional Neural Network (CNN)\n",
    "\n",
    "# Recurrent Neural Network (RNN)\n",
    "\n",
    "# Hugging Face (Transformer)"
   ]
  },
  {
   "cell_type": "code",
   "execution_count": 4,
   "metadata": {},
   "outputs": [],
   "source": [
    "# Binary Dataset\n",
    "binary_df_train = pd.read_csv('binary_df_train.csv')\n",
    "binary_df_test = pd.read_csv('binary_df_test.csv')\n",
    "\n",
    "#MNB(binary_df_train, binary_df_test, yTrain, yTest, 'binary', target_names)\n",
    "#BNB(binary_df_train, binary_df_test, yTrain, yTest, 'binary', target_names)\n",
    "#PERC(binary_df_train, binary_df_test, yTrain, yTest, 'binary', target_names)\n",
    "#LR(binary_df_train, binary_df_test, yTrain, yTest, 'binary', target_names)\n",
    "DT(binary_df_train, binary_df_test, yTrain, yTest, 'binary', target_names)"
   ]
  },
  {
   "cell_type": "code",
   "execution_count": null,
   "metadata": {},
   "outputs": [],
   "source": [
    "# Bag of Words Dataset\n",
    "bow_df_train = pd.read_csv('bow_df_train.csv')\n",
    "bow_df_test = pd.read_csv('bow_df_test.csv')\n",
    "\n",
    "#MNB(bow_df_train, bow_df_test, yTrain, yTest, 'bow', target_names)\n",
    "#BNB(bow_df_train, bow_df_test, yTrain, yTest, 'bow', target_names)\n",
    "#PERC(bow_df_train, bow_df_test, yTrain, yTest, 'bow', target_names)\n",
    "#LR(bow_df_train, bow_df_test, yTrain, yTest, 'bow', target_names)\n",
    "DT(bow_df_train, bow_df_test, yTrain, yTest, 'bow', target_names)"
   ]
  },
  {
   "cell_type": "code",
   "execution_count": null,
   "metadata": {},
   "outputs": [],
   "source": [
    "# Tfidf Dataset\n",
    "tfidf_df_train = pd.read_csv('tfidf_df_train.csv')\n",
    "tfidf_df_test = pd.read_csv('tfidf_df_test.csv')\n",
    "\n",
    "#MNB(tfidf_df_train, tfidf_df_test, yTrain, yTest, 'tfidf', target_names)\n",
    "#BNB(tfidf_df_train, tfidf_df_test, yTrain, yTest, 'tfidf', target_names)\n",
    "#PERC(tfidf_df_train, tfidf_df_test, yTrain, yTest, 'tfidf', target_names)\n",
    "#LR(tfidf_df_train, tfidf_df_test, yTrain, yTest, 'tfidf', target_names)\n",
    "DT(tfidf_df_train, tfidf_df_test, yTrain, yTest, 'tfidf', target_names)"
   ]
  },
  {
   "cell_type": "code",
   "execution_count": null,
   "metadata": {},
   "outputs": [],
   "source": [
    "# Hash Dataset\n",
    "hash_df_train = pd.read_csv('hash_df_train.csv')\n",
    "hash_df_test = pd.read_csv('hash_df_test.csv')\n",
    "\n",
    "#BNB(hash_df_train, hash_df_test, yTrain, yTest, 'hashing', target_names)\n",
    "#PERC(hash_df_train, hash_df_test, yTrain, yTest, 'hashing', target_names)\n",
    "#LR(hash_df_train, hash_df_test, yTrain, yTest, 'hashing', target_names)\n",
    "DT(hash_df_train, hash_df_test, yTrain, yTest, 'hashing', target_names)"
   ]
  },
  {
   "cell_type": "code",
   "execution_count": null,
   "metadata": {},
   "outputs": [],
   "source": [
    "# LDA Dataset\n",
    "lda_df_train = pd.read_csv('lda_df_train.csv')\n",
    "lda_df_test = pd.read_csv('lda_df_test.csv')\n",
    "\n",
    "#MNB(lda_df_train, lda_df_test, yTrain, yTest, 'LDA', target_names)\n",
    "#BNB(lda_df_train, lda_df_test, yTrain, yTest, 'LDA', target_names)\n",
    "#KNN(lda_df_train, lda_df_test, yTrain, yTest, 'LDA', target_names)\n",
    "#PERC(lda_df_train, lda_df_test, yTrain, yTest, 'LDA', target_names)\n",
    "#LR(lda_df_train, lda_df_test, yTrain, yTest, 'LDA', target_names)\n",
    "DT(lda_df_train, lda_df_test, yTrain, yTest, 'LDA', target_names)"
   ]
  },
  {
   "cell_type": "code",
   "execution_count": 4,
   "metadata": {},
   "outputs": [
    {
     "name": "stdout",
     "output_type": "stream",
     "text": [
      "Decision Tree on PCA dataset:\n",
      "              precision    recall  f1-score   support\n",
      "\n",
      "     Neutral       0.94      0.97      0.96    479841\n",
      "  Depression       0.94      0.88      0.91    231867\n",
      "\n",
      "    accuracy                           0.94    711708\n",
      "   macro avg       0.94      0.93      0.93    711708\n",
      "weighted avg       0.94      0.94      0.94    711708\n",
      "\n"
     ]
    }
   ],
   "source": [
    "# PCA Dataset\n",
    "pca_df_train = pd.read_csv('pca_df_train.csv')\n",
    "pca_df_test = pd.read_csv('pca_df_test.csv')\n",
    "\n",
    "#BNB(pca_df_train, pca_df_test, yTrain, yTest, 'PCA', target_names)\n",
    "#KNN(pca_df_train, pca_df_test, yTrain, yTest, 'PCA', target_names)\n",
    "#PERC(pca_df_train, pca_df_test, yTrain, yTest, 'PCA', target_names)\n",
    "#LR(pca_df_train, pca_df_test, yTrain, yTest, 'PCA', target_names)\n",
    "DT(pca_df_train, pca_df_test, yTrain, yTest, 'PCA', target_names)"
   ]
  }
 ],
 "metadata": {
  "kernelspec": {
   "display_name": "CS334",
   "language": "python",
   "name": "python3"
  },
  "language_info": {
   "codemirror_mode": {
    "name": "ipython",
    "version": 3
   },
   "file_extension": ".py",
   "mimetype": "text/x-python",
   "name": "python",
   "nbconvert_exporter": "python",
   "pygments_lexer": "ipython3",
   "version": "3.11.4"
  }
 },
 "nbformat": 4,
 "nbformat_minor": 2
}
